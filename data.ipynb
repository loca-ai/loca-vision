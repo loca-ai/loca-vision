{
 "cells": [
  {
   "cell_type": "code",
   "execution_count": null,
   "metadata": {},
   "outputs": [],
   "source": [
    "import numpy as np\n",
    "import pandas as pd\n",
    "import matplotlib.pyplot as plt\n",
    "import seaborn as sns\n",
    "from scipy import stats\n",
    "import scipy\n",
    "\n",
    "plt.style.use('rho')\n",
    "\n",
    "c1, c2, c3, c4, c5, c6, *_cs = [x['color'] for x in list(plt.rcParams['axes.prop_cycle'])]"
   ]
  }
 ],
 "metadata": {
  "interpreter": {
   "hash": "e1f500c63928480d774878a0f07da46b956d5b7679a924523ceeabbfef458c5f"
  },
  "kernelspec": {
   "display_name": "Python 3.7.11 ('ds')",
   "language": "python",
   "name": "python3"
  },
  "language_info": {
   "name": "python",
   "version": "3.7.11"
  }
 },
 "nbformat": 4,
 "nbformat_minor": 5
}
